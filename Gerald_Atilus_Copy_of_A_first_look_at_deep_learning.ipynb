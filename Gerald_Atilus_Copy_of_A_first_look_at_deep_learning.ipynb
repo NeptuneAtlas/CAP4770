{
  "cells": [
    {
      "cell_type": "markdown",
      "metadata": {
        "id": "view-in-github",
        "colab_type": "text"
      },
      "source": [
        "<a href=\"https://colab.research.google.com/github/NeptuneAtlas/CAP4770/blob/main/Gerald_Atilus_Copy_of_A_first_look_at_deep_learning.ipynb\" target=\"_parent\"><img src=\"https://colab.research.google.com/assets/colab-badge.svg\" alt=\"Open In Colab\"/></a>"
      ]
    },
    {
      "cell_type": "markdown",
      "metadata": {
        "id": "0mKArb-b1_En"
      },
      "source": [
        "### Note:\n",
        "\n",
        "**First let's set the runtime to GPU -- click on 'runtime' in the menu above, select 'Change runtime type' and pick 'GPU'.**"
      ]
    },
    {
      "cell_type": "code",
      "execution_count": 1,
      "metadata": {
        "id": "-n3xuc-8gykk",
        "colab": {
          "base_uri": "https://localhost:8080/"
        },
        "outputId": "19341f5b-12ee-4138-a2ed-5639e4993e0e"
      },
      "outputs": [
        {
          "output_type": "stream",
          "name": "stdout",
          "text": [
            "Sat Apr  8 21:08:07 2023       \n",
            "+-----------------------------------------------------------------------------+\n",
            "| NVIDIA-SMI 525.85.12    Driver Version: 525.85.12    CUDA Version: 12.0     |\n",
            "|-------------------------------+----------------------+----------------------+\n",
            "| GPU  Name        Persistence-M| Bus-Id        Disp.A | Volatile Uncorr. ECC |\n",
            "| Fan  Temp  Perf  Pwr:Usage/Cap|         Memory-Usage | GPU-Util  Compute M. |\n",
            "|                               |                      |               MIG M. |\n",
            "|===============================+======================+======================|\n",
            "|   0  Tesla T4            Off  | 00000000:00:04.0 Off |                    0 |\n",
            "| N/A   73C    P8    14W /  70W |      0MiB / 15360MiB |      0%      Default |\n",
            "|                               |                      |                  N/A |\n",
            "+-------------------------------+----------------------+----------------------+\n",
            "                                                                               \n",
            "+-----------------------------------------------------------------------------+\n",
            "| Processes:                                                                  |\n",
            "|  GPU   GI   CI        PID   Type   Process name                  GPU Memory |\n",
            "|        ID   ID                                                   Usage      |\n",
            "|=============================================================================|\n",
            "|  No running processes found                                                 |\n",
            "+-----------------------------------------------------------------------------+\n"
          ]
        }
      ],
      "source": [
        "!nvidia-smi"
      ]
    },
    {
      "cell_type": "markdown",
      "metadata": {
        "id": "2ii5clez0HmE"
      },
      "source": [
        "# A First Look at Deep Learning using Keras  \n",
        "\n",
        "![](https://raw.githubusercontent.com/zacharski/ml-class/master/labs/pics/keras22.png)\n",
        "\n",
        "\n",
        "\n",
        "This notebook is intended to be a first quick hands-on introduction to deep learning using TensorFlow and Keras. \n",
        "\n",
        "\n",
        "First, let's cover a few definitions.\n",
        "\n",
        "#### Tensor\n",
        "Tensors, like arrays and matrices, are containers for numbers. For now, it is fine to think of tensors as arrays. Tensors have three defining characteristics. \n",
        "\n",
        "1. **Number of Axes or Dimensions**\n",
        "2. **The shape**\n",
        "3. **The Type of Data Stored in the Tensor**\n",
        "\n",
        "For example, the tensor `x` below \n",
        "\n",
        "* has one axis (it is one dimensional).\n",
        "* its shape is represented by the tuple `(4)` --- there are 4 elements in that one axis.\n",
        "* the datatype is `uint8` (the tensor contains integers).\n",
        "\n",
        "![](https://raw.githubusercontent.com/zacharski/datamining-guide/master/labs/pics/tensors43.png)\n",
        "\n",
        "The tensor `y`\n",
        "\n",
        "* has 2 axis (2 dimensional)\n",
        "* its shape is (3,4). Along one axis there are 3 rows and along the other, 4 columns\n",
        "* the datatype is `uint8`\n",
        "\n",
        "Finally, the tensor `z` \n",
        "\n",
        "* has 3 axis   -- it is 3 dimensional\n",
        "* its shape is (2, 3, 4)\n",
        "* the datatype is `uint8`\n",
        "\n",
        "**Tensors are the fundamental datatype for deep learning systems.**\n",
        "\n",
        "\n",
        "### Keras\n",
        "Keras is open source software that functions as an abstract interface to TensorFlow. \n",
        "\n",
        "My difficulty ranking of deep learning libraries (from easiest to hardest) is \n",
        "\n",
        "1. Keras\n",
        "2. PyTorch\n",
        "3. TensorFlow\n",
        "\n",
        "All have their strengths and it is difficult to recommend which one a beginner should start with. The excellent, free, Open.ai course uses PyTorch. However, in our exploration of deep learning we will start with Keras. In your path toward deepening your knowledge in machine learning you will likely encounter all three.\n",
        "\n",
        "# A first look at a neural network\n",
        "Let's go back to the example of recognizing hand written digits. \n",
        "\n",
        "\n",
        "![](https://raw.githubusercontent.com/zacharski/datamining-guide/master/labs/pics/mmnist.png)\n",
        "\n",
        "We are using the MNIST dataset (Modified National Institute of Standards) which is a dataset of 60,000 training instances and 10,000 testing instances of 28x28 grayscale images of the digits 0 through 9. This dataset was created in the 1980s as a testbed for various research groups. Back then it was considered a hard problem. Today it is considered the \"hello world\" equivalent in deep learning and you will see it again and again on your path learning about machine learning. \n"
      ]
    },
    {
      "cell_type": "markdown",
      "metadata": {
        "id": "fHO0x8YE0HmF"
      },
      "source": [
        "\n",
        "\n",
        "# Prelim steps\n",
        "\n",
        "## 1. Import Keras\n"
      ]
    },
    {
      "cell_type": "code",
      "execution_count": 2,
      "metadata": {
        "id": "DS58igpC0HmG",
        "colab": {
          "base_uri": "https://localhost:8080/",
          "height": 35
        },
        "outputId": "96cbb840-d88e-4c97-f8a2-09051283194a"
      },
      "outputs": [
        {
          "output_type": "execute_result",
          "data": {
            "text/plain": [
              "'2.12.0'"
            ],
            "application/vnd.google.colaboratory.intrinsic+json": {
              "type": "string"
            }
          },
          "metadata": {},
          "execution_count": 2
        }
      ],
      "source": [
        "import keras\n",
        "keras.__version__ "
      ]
    },
    {
      "cell_type": "markdown",
      "metadata": {
        "id": "noY1wNno0HmK"
      },
      "source": [
        "\n",
        "\n",
        "## 2. Define the datasets we are going to use.\n",
        "\n",
        "\n"
      ]
    },
    {
      "cell_type": "markdown",
      "metadata": {
        "id": "1tUaQ5q20HmK"
      },
      "source": [
        "The MNIST dataset is so common that Keras knows how to download the data into a set of four Numpy arrays:"
      ]
    },
    {
      "cell_type": "code",
      "execution_count": 3,
      "metadata": {
        "id": "voWJ4eMm0HmL",
        "colab": {
          "base_uri": "https://localhost:8080/"
        },
        "outputId": "60edd7d8-cea3-483a-e0f3-3fe821285928"
      },
      "outputs": [
        {
          "output_type": "stream",
          "name": "stdout",
          "text": [
            "Downloading data from https://storage.googleapis.com/tensorflow/tf-keras-datasets/mnist.npz\n",
            "11490434/11490434 [==============================] - 2s 0us/step\n"
          ]
        }
      ],
      "source": [
        "from keras.datasets import mnist\n",
        "\n",
        "(train_images, train_labels), (test_images, test_labels) = mnist.load_data()"
      ]
    },
    {
      "cell_type": "markdown",
      "metadata": {
        "id": "AsarChQu0HmN"
      },
      "source": [
        "`train_images` and `train_labels` form the \"training set\", the data that the model will learn from. The model will then be tested on the \n",
        "\"test set\", `test_images` and `test_labels`. The Keras version of this dataset encodes the images as Numpy arrays, and the labels are simply an array of digits, ranging \n",
        "from 0 to 9. There is a one-to-one correspondence between the images and the labels.\n",
        "\n",
        "## 3. Examining the data\n",
        "\n",
        "As already mentioned, each digit in the data is represented by a 28x28 pixel image:\n",
        "\n",
        "\n",
        "![](https://raw.githubusercontent.com/zacharski/datamining-guide/master/labs/pics/mnist2.png)\n",
        "\n",
        "This is represented as a 2 dimensional array of 28 rows and 28 columns. The gray scale at each location is represented by a number. Total white is represented by 0, total black as 255, and shades of gray are represented by numbers between those two. \n",
        "\n",
        "Just for a sanity check, let's see if this format matches a sample of our training data. Let's get the first batch of our data:"
      ]
    },
    {
      "cell_type": "code",
      "execution_count": 4,
      "metadata": {
        "id": "Z5UJNpAs0HmN",
        "colab": {
          "base_uri": "https://localhost:8080/"
        },
        "outputId": "778bfaa2-e027-45f7-e317-39515e4c1d03"
      },
      "outputs": [
        {
          "output_type": "execute_result",
          "data": {
            "text/plain": [
              "(60000, 28, 28)"
            ]
          },
          "metadata": {},
          "execution_count": 4
        }
      ],
      "source": [
        "train_images.shape"
      ]
    },
    {
      "cell_type": "markdown",
      "metadata": {
        "id": "_SexwMUDfdF-"
      },
      "source": [
        "That is not surprising---so 60,000 images that are a 28x28 array of pixel values"
      ]
    },
    {
      "cell_type": "code",
      "execution_count": 5,
      "metadata": {
        "id": "iGoBVIWU0HmQ",
        "colab": {
          "base_uri": "https://localhost:8080/"
        },
        "outputId": "e8cb0c3b-4eba-48b6-ded7-15b3f3edb8cd"
      },
      "outputs": [
        {
          "output_type": "execute_result",
          "data": {
            "text/plain": [
              "60000"
            ]
          },
          "metadata": {},
          "execution_count": 5
        }
      ],
      "source": [
        "len(train_labels)"
      ]
    },
    {
      "cell_type": "code",
      "execution_count": 6,
      "metadata": {
        "id": "6xrzLvCu0HmV",
        "colab": {
          "base_uri": "https://localhost:8080/"
        },
        "outputId": "6b17c8e5-8d75-40e8-9a50-63a26615a6fd"
      },
      "outputs": [
        {
          "output_type": "execute_result",
          "data": {
            "text/plain": [
              "array([5, 0, 4, ..., 5, 6, 8], dtype=uint8)"
            ]
          },
          "metadata": {},
          "execution_count": 6
        }
      ],
      "source": [
        "train_labels"
      ]
    },
    {
      "cell_type": "markdown",
      "metadata": {
        "id": "sw4IhMIr0Hmm"
      },
      "source": [
        "# The data\n",
        "To get an idea of what the data looks like let's display a few images."
      ]
    },
    {
      "cell_type": "code",
      "execution_count": 7,
      "metadata": {
        "id": "K4oH15sT0Hmm",
        "colab": {
          "base_uri": "https://localhost:8080/",
          "height": 1000
        },
        "outputId": "78fbbdfc-cc10-4d8b-9c8e-eb232e0b60cf"
      },
      "outputs": [
        {
          "output_type": "display_data",
          "data": {
            "text/plain": [
              "<Figure size 200x200 with 1 Axes>"
            ],
            "image/png": "[encoded data removed]"
          },
          "metadata": {}
        },
        {
          "output_type": "display_data",
          "data": {
            "text/plain": [
              "<Figure size 200x200 with 1 Axes>"
            ],
            "image/png": "[encoded data removed]"
          },
          "metadata": {}
        },
        {
          "output_type": "display_data",
          "data": {
            "text/plain": [
              "<Figure size 200x200 with 1 Axes>"
            ],
            "image/png": "[encoded data removed]"
          },
          "metadata": {}
        },
        {
          "output_type": "display_data",
          "data": {
            "text/plain": [
              "<Figure size 200x200 with 1 Axes>"
            ],
            "image/png": "[encoded data removed]"
          },
          "metadata": {}
        },
        {
          "output_type": "display_data",
          "data": {
            "text/plain": [
              "<Figure size 200x200 with 1 Axes>"
            ],
            "image/png": "[encoded data removed]"
          },
          "metadata": {}
        }
      ],
      "source": [
        "import matplotlib.pyplot as plt\n",
        "\n",
        "def viewImage(x):\n",
        "    plt.figure(figsize=(2,2))\n",
        "    plt.imshow(x, interpolation='nearest', cmap='Greys')\n",
        "    plt.show()\n",
        "    \n",
        "viewImage(test_images[0])\n",
        "viewImage(test_images[1])\n",
        "viewImage(test_images[2])\n",
        "viewImage(test_images[3])\n",
        "viewImage(test_images[4])\n",
        "\n",
        "\n"
      ]
    },
    {
      "cell_type": "markdown",
      "metadata": {
        "id": "ereJKgeH_-5f"
      },
      "source": [
        "and let's look at the associated labels:"
      ]
    },
    {
      "cell_type": "code",
      "execution_count": 8,
      "metadata": {
        "id": "h8HKsdisAC_x",
        "colab": {
          "base_uri": "https://localhost:8080/"
        },
        "outputId": "b6fa33f0-baec-415b-9461-b1b196cfbc82"
      },
      "outputs": [
        {
          "output_type": "execute_result",
          "data": {
            "text/plain": [
              "array([7, 2, 1, 0, 4], dtype=uint8)"
            ]
          },
          "metadata": {},
          "execution_count": 8
        }
      ],
      "source": [
        "test_labels[:5]"
      ]
    },
    {
      "cell_type": "markdown",
      "metadata": {
        "id": "OHPEFxanojmP"
      },
      "source": [
        "![](https://raw.githubusercontent.com/zacharski/datamining-guide/master/labs/pics/torchdivide.png)\n",
        "\n",
        "# Our deep learning network design.\n",
        "\n",
        "Let us now turn our attention to the deep learning network we will implement.\n",
        "\n",
        "The input to our deep learning network will be a 28x28 image. Instead of using the two dimensional 28 x 28 representation, for simplicity we will flatten the image into a sequence of 784 pixels (28 times 28). These 784 pixel values will be our input. There are 10 possible outputs representing the digits 0 through 9. Thus, the architecture of our input values and output nodes looks like this:\n",
        "\n",
        "\n",
        "![](https://raw.githubusercontent.com/zacharski/datamining-guide/master/labs/pics/dense1a.png)\n",
        "\n",
        "Between the input and the output we will have one or more hidden layers. *Hidden layers* are simply the layers of nodes between the input and the output. \n",
        "\n",
        "![](https://raw.githubusercontent.com/zacharski/datamining-guide/master/labs/pics/hiddenpyt.png)\n",
        "\n",
        "\n",
        "For our initial network we are going to have one hidden layer of 256 nodes. The layer will be densely connected (also called *fully connected*) meaning that each input  (in this case each pixel) is connected to each node in the inner layer:\n",
        "\n",
        "![](https://raw.githubusercontent.com/zacharski/datamining-guide/master/labs/pics/connect1p.png)\n",
        "\n",
        "\n",
        "So each of the 784 pixel values is connected to each of the 256 nodes of the hidden layer.\n",
        "\n",
        "![](https://raw.githubusercontent.com/zacharski/datamining-guide/master/labs/pics/connect2p.png)\n",
        "\n",
        "Let's examine one of these nodes in the hidden layer in more detail. Each node has 784 inputs and each of these inputs has an associated weight. So *input<sub>1</sub>* has an associated *weight<sub>1</sub>*, *input<sub>2</sub>* has an associated *weight<sub>2</sub>* and *input<sub>784</sub>* has an associated *weight<sub>784</sub>*. Also, each node has an additional weight *weight<sub>0</sub>*. \n",
        "\n",
        "\n",
        "![](https://raw.githubusercontent.com/zacharski/datamining-guide/master/labs/pics/relu2.png)\n",
        "\n",
        "Each node multiplies its input by the associated weights:\n",
        "\n",
        "$$\n",
        "total = \\sum_{i=0}^{784}{x_i w_i}\n",
        "$$\n",
        "\n",
        "Since the inputs are represented by a tensor and the weights are as well, this operation can be done very efficiently on the parallel architecture of a GPU. Next, the node determines its output based on this total weighted input, using an **activation function**. One common activation function is **ReLU** (rectified linear unit) and is defined by \n",
        "\n",
        "$$\n",
        "relu(total) = \\max(0, total)\n",
        "$$\n",
        "\n",
        "So the output of a single node is\n",
        "\n",
        "$$\n",
        "output = \\max(0, \\sum_{i=0}^{784}{x_i w_i})\n",
        "$$\n",
        "\n",
        "Since each node has 785 weights and there are 256 nodes in our hidden layer, there are 200,960 weights in that layer. \n",
        "\n",
        "\n",
        "#### Output layer\n",
        "The output layer is also densely connected, mean each node in the hidden layer will be connected to each of the output nodes. \n",
        "\n",
        "![](https://raw.githubusercontent.com/zacharski/datamining-guide/master/labs/pics/connect3p.png)\n",
        "\n",
        "\n",
        "Resulting in a dense, or fully connected network.\n",
        "\n",
        "![](https://raw.githubusercontent.com/zacharski/datamining-guide/master/labs/pics/connect4p.png)\n",
        "\n",
        "\n",
        "Each node in the output layer has 256 + 1 weights (256 because each node in the output layer is connected to each of the outputs of the 256 nodes in the hidden layer). Thus, there are 2,570 trainable parameters in the output layer for a total of 203,530 trainable parameters. These weights, or trainable parameters, are what the model learns during the training phase. Typically, these parameters are initially set to random numbers.\n",
        "\n",
        "The network in these images is shown with the input on the left and the output on the right and the processing proceeds left to right. The hidden layer performs the calculations described above Each node in the hidden layer has a specific output and these outputs are then processed by the output layer. If we had more layers to our network (for example, three hidden layers), the progression on calculations would be similar. When processing proceeds in this direction it is known as **forward propagation**. *Forward* meaning that the calculations proceed from the initial inputs to the final output.  Using forward propagation, the networks takes inputs representing an image of the number 4 as an example and the network makes a prediction which may be correct (*it is a 4*) or incorrect (*it is a 9*). In what is called a **back propagation** step, the system uses the actual label and the prediction to adjust the weights throughout the network. This will be described in more detail later.\n",
        "\n",
        "As François Chollet, creator of Keras says:  \n",
        "\n",
        "> The core building block of neural networks is the \"layer\", a data-processing module which you can conceive as a \"filter\" for data. Some \n",
        "data comes in, and comes out in a more useful form. Precisely, layers extract _representations_ out of the data fed into them -- hopefully \n",
        "representations that are more meaningful for the problem at hand. Most of deep learning really consists of chaining together simple layers \n",
        "which will implement a form of progressive \"data distillation\". A deep learning model is like a sieve for data processing, made of a \n",
        "succession of increasingly refined data filters -- the \"layers\".\n",
        "\n",
        " \n",
        "\n",
        "#### The total network.\n",
        "This network image above represents the basic architecture of our system\n",
        "\n",
        "* 784 inputs (the pixels of the MNIST image)\n",
        "* 256 densely connected nodes of the hidden layer\n",
        "* 10 output nodes represented the 10 possible classifications of an image (the digits 0 through 9)\n",
        "\n",
        "### Implementing in Keras\n",
        "\n",
        "Just to introduce some code, let us look how to implement this architecture:\n",
        "\n",
        "```\n",
        "from keras import models\n",
        "from keras import layers\n",
        "\n",
        "input_size=784 \n",
        "hidden_size = 256\n",
        "output_size = 10\n",
        "\n",
        "network = models.Sequential()\n",
        "network.add(layers.Dense(hidden_size, activation='relu', input_shape=(input_size,)))\n",
        "network.add(layers.Dense(output_size, activation='softmax'))\n",
        "\n",
        "```\n",
        "\n",
        "First, we set up some variables representing, as the variable names suggest, the input size (the 28 by 28 image contains 784 pixels, the number of hidden nodes (256), and the number of classes in the output (10).\n",
        "\n",
        "Next, we define `network`. `Sequential` creates a sequential container, which means that the layers we add are organized sequentially.\n",
        "\n",
        "The `add` method adds a layer to the network.\n",
        "\n",
        "* `Layers.dense` creates a dense (fully connected) layer. \n",
        "  * The first parameter is the size of the hidden layer---in our case `hidden_size`\n",
        "  * `activation=relu,` specifies we are using the ReLU activation function.\n",
        "  * `input_shape` specifies, as the name suggests, the shape of the input. In our case the 784 pixels of the image.\n",
        "* `network.add(layers.Dense(output_size, activation='softmax'))` Next we add another densely connected layer to our network. \n",
        "  * `output_size` There will be 10 nodes in this layer. Each node represents one of the possible labels for the image--the digits 0 through 9.\n",
        "  * `activation='softmax',` specifies we are using the softmax activation function. This function will give us the probabilies of the possible labels. (For ex., 80% sure it is a '5', etc)\n",
        "\n",
        "\n",
        "If we instead wanted 64 nodes in our hidden layer our code would be\n",
        "\n",
        "\n",
        "\n",
        "```\n",
        "from keras import models\n",
        "from keras import layers\n",
        "\n",
        "input_size=784 \n",
        "hidden_size = 64\n",
        "output_size = 10\n",
        "\n",
        "network = models.Sequential()\n",
        "network.add(layers.Dense(hidden_size, activation='relu', input_shape=(input_size,)))\n",
        "network.add(layers.Dense(output_size, activation='softmax'))\n",
        "\n",
        "```\n",
        "\n",
        "And if we wanted a network with two hidden layers , the first with 256 nodes and the second with 64 nodes we might code it...\n",
        "\n",
        "```\n",
        "from keras import models\n",
        "from keras import layers\n",
        "\n",
        "input_size=784 \n",
        "hidden_size = [256, 64]\n",
        "output_size = 10\n",
        "\n",
        "network = models.Sequential()\n",
        "network.add(layers.Dense(hidden_size[0], activation='relu', input_shape=(input_size,)))\n",
        "network.add(layers.Dense(hidden_size[1], activation='relu'))\n",
        "network.add(layers.Dense(output_size, activation='softmax'))\n",
        "\n",
        "```\n",
        "\n",
        "\n",
        "\n"
      ]
    },
    {
      "cell_type": "markdown",
      "metadata": {
        "id": "P_XKnAu30Hmp"
      },
      "source": [
        "\n",
        "### Workflow\n",
        "\n",
        "\n",
        "Our workflow will be as follow: \n",
        "\n",
        "1. we will create a neural network containing a fully connected hidden layer.\n",
        "2. we will present our neural network with the training data, `train_images` and `train_labels`. The \n",
        "network will then learn to associate images and labels by adjusting the 2,570 weights.\n",
        "3. we will ask the network to produce predictions for `test_images`\n",
        "4. we will verify if these predictions match the labels from `test_labels`.\n",
        "\n",
        "#### Let's build our network."
      ]
    },
    {
      "cell_type": "code",
      "execution_count": 9,
      "metadata": {
        "id": "6I0sj6hW0Hmp"
      },
      "outputs": [],
      "source": [
        "from keras import models\n",
        "from keras import layers\n",
        "\n",
        "input_size=784 \n",
        "hidden_size = 256\n",
        "output_size = 10\n",
        "\n",
        "network = models.Sequential()\n",
        "network.add(layers.Dense(hidden_size, activation='relu', input_shape=(input_size,)))\n",
        "network.add(layers.Dense(output_size, activation='softmax'))"
      ]
    },
    {
      "cell_type": "markdown",
      "metadata": {
        "id": "ouiEONIe0Hms"
      },
      "source": [
        "\n",
        "The core building block of neural networks is the \"layer\", a data-processing module which you can conceive as a \"filter\" for data. Some \n",
        "data comes in, and comes out in a more useful form. Precisely, layers extract _representations_ out of the data fed into them -- hopefully \n",
        "representations that are more meaningful for the problem at hand. Most of deep learning really consists of chaining together simple layers \n",
        "which will implement a form of progressive \"data distillation\". A deep learning model is like a sieve for data processing, made of a \n",
        "succession of increasingly refined data filters -- the \"layers\".\n",
        "\n",
        "Here our network consists of a sequence of two `Dense` layers, which are densely-connected (also called \"fully-connected\") neural layers. \n",
        "The second (and last) layer is a 10-way \"softmax\" layer, which means it will return an array of 10 probability scores (summing to 1). Each \n",
        "score will be the probability that the current digit image belongs to one of our 10 digit classes.\n",
        "\n",
        "\n",
        "#### Compiling the model.\n",
        "To make our network ready for training, we need to pick three more things, as part of a compilation step:\n",
        "\n",
        "* An **optimizer**: this is the mechanism through which the network will update itself based on the data it sees and its loss function.\n",
        "* A **loss function**: this is how the network will be able to measure how good a job it is doing on its training data, and thus how it will be \n",
        "able to steer itself in the right direction.\n",
        "* **Metrics** to monitor during training and testing. Here we will only care about accuracy (the fraction of the images that were correctly \n",
        "classified).\n",
        "\n",
        "Keras makes this compilation step easy:"
      ]
    },
    {
      "cell_type": "code",
      "execution_count": 10,
      "metadata": {
        "id": "tXUIZUwN0Hmt"
      },
      "outputs": [],
      "source": [
        "network.compile(optimizer='rmsprop',\n",
        "                loss='categorical_crossentropy',\n",
        "                metrics=['accuracy'])"
      ]
    },
    {
      "cell_type": "markdown",
      "metadata": {
        "id": "mcclDPL10Hmu"
      },
      "source": [
        "\n",
        "Why did we select categorical crossentropy as the loss function? From the Tensorflow documentation:\n",
        "\n",
        "> Use this crossentropy loss function when there are two or more label classes. We expect labels to be provided in a one_hot representation. If you want to provide labels as integers, please use SparseCategoricalCrossentropy loss. There should be # classes floating point values per feature.\n",
        "\n",
        "Note that the documentation says that we need to one_hot encode the labels. You probably already know this but that means if we are labeling pictures of dogs, cats, squirrel and moose and our test_labels look like\n",
        "\n",
        "picture | label\n",
        ":---:   | :---\n",
        "1.  | dog\n",
        "2. | dog\n",
        "3. | cat\n",
        "4. | squirel\n",
        "5. | cat\n",
        "6. | moose\n",
        "\n",
        "We will one_hot encode this resulting in \n",
        "\n",
        "\n",
        "picture | dog | cat | squirrel | moose\n",
        ":---: | :----: |:--: | :---: | :---:\n",
        " 1.     | 1 | 0 | 0 | 0\n",
        " 2. | 1 | 0| 0 | 0\n",
        " 3. | 0 | 1 | 0 | 0\n",
        " 4. | 0 | 0 | 1 | 0\n",
        " 5. | 0 | 1 |0 | 0\n",
        " 6. | 0|0|0|1\n",
        "\n",
        "And again, the `metrics=['accuracy']` line means that we are calculating the percentage of predicted values that match with actual values.\n",
        "\n",
        "\n",
        "### Preprocessing the data\n",
        "Before training, we will preprocess our data by reshaping it into the shape that the network expects, and scaling it so that all values are in \n",
        "the `[0, 1]` interval. Previously, our training images for instance were stored in an array of shape `(60000, 28, 28)` of type `uint8` with \n",
        "values in the `[0, 255]` interval. We transform it into a `float32` array of shape `(60000, 28 * 28)` with values between 0 and 1.\n",
        "\n",
        "In other words, each image in our original data was a 28x28 array of integers ranging from 0 to 255. We are going to transform the integers 0-255 to a float between 0 and 1. In addition we are going to flatten each image array to look like\n",
        "\n",
        "```\n",
        "[0, 1, 2, 3, 4, 5 ... 784 ]\n",
        "```\n"
      ]
    },
    {
      "cell_type": "code",
      "execution_count": 11,
      "metadata": {
        "id": "h-tevXPN0Hmv",
        "colab": {
          "base_uri": "https://localhost:8080/"
        },
        "outputId": "3d9a3aec-6d99-4ee0-eb7f-172a0d453a0f"
      },
      "outputs": [
        {
          "output_type": "execute_result",
          "data": {
            "text/plain": [
              "array([[0., 0., 0., ..., 0., 0., 0.],\n",
              "       [0., 0., 0., ..., 0., 0., 0.],\n",
              "       [0., 0., 0., ..., 0., 0., 0.],\n",
              "       [0., 0., 0., ..., 0., 0., 0.],\n",
              "       [0., 0., 0., ..., 0., 0., 0.]], dtype=float32)"
            ]
          },
          "metadata": {},
          "execution_count": 11
        }
      ],
      "source": [
        "train_images = train_images.reshape((60000, 28 * 28))\n",
        "train_images = train_images.astype('float32') / 255\n",
        "\n",
        "test_images = test_images.reshape((10000, 28 * 28))\n",
        "test_images = test_images.astype('float32') / 255\n",
        "test_images[:5]"
      ]
    },
    {
      "cell_type": "markdown",
      "metadata": {
        "id": "efw6Tx4x0Hmy"
      },
      "source": [
        "#### Here's a question:\n",
        "Why are we dividing each pixel by 255? What did the original number represent?\n",
        "\n",
        "#### Encode the labels\n",
        "We also need to categorically encode the labels:"
      ]
    },
    {
      "cell_type": "code",
      "execution_count": 12,
      "metadata": {
        "id": "QBoQhwiX0Hmz"
      },
      "outputs": [],
      "source": [
        "from keras.utils import to_categorical\n",
        "\n",
        "train_labels = to_categorical(train_labels)\n",
        "test_labels = to_categorical(test_labels)\n",
        "\n"
      ]
    },
    {
      "cell_type": "markdown",
      "metadata": {
        "id": "eNSszmzz0Hm1"
      },
      "source": [
        "![](https://raw.githubusercontent.com/zacharski/datamining-guide/master/labs/pics/PyDivideTwo.png)\n",
        "\n",
        "## <font color='#EE4C2C'>1. What does the first test label look like? (print it out)</font> "
      ]
    },
    {
      "cell_type": "code",
      "execution_count": null,
      "metadata": {
        "id": "6de8eFdF0Hm1",
        "colab": {
          "base_uri": "https://localhost:8080/"
        },
        "outputId": "f97aae62-d985-4c64-aad2-caa9d14bc3d0"
      },
      "outputs": [
        {
          "output_type": "execute_result",
          "data": {
            "text/plain": [
              "array([[0., 0., 0., 0., 0., 0., 0., 1., 0., 0.]], dtype=float32)"
            ]
          },
          "metadata": {},
          "execution_count": 13
        }
      ],
      "source": [
        "test_labels[:1]\n",
        "#viewImage(test_labels[1])\n",
        "#come back to this"
      ]
    },
    {
      "cell_type": "markdown",
      "metadata": {
        "id": "_3wWDY0g0Hm3"
      },
      "source": [
        "### Training our first deep learning model\n",
        "\n",
        "We are now ready to train our network, which, unsurprisingly, in Keras is done via a call to the `fit` method of the network: \n",
        "we \"fit\" the model to its training data."
      ]
    },
    {
      "cell_type": "code",
      "execution_count": null,
      "metadata": {
        "id": "3JQ7pH630Hm4",
        "colab": {
          "base_uri": "https://localhost:8080/"
        },
        "outputId": "e066eabe-8fdf-42a0-9dcb-6213f77ea231"
      },
      "outputs": [
        {
          "output_type": "stream",
          "name": "stdout",
          "text": [
            "Epoch 1/5\n",
            "469/469 [==============================] - 10s 5ms/step - loss: 0.3011 - accuracy: 0.9162\n",
            "Epoch 2/5\n",
            "469/469 [==============================] - 3s 6ms/step - loss: 0.1304 - accuracy: 0.9627\n",
            "Epoch 3/5\n",
            "469/469 [==============================] - 2s 4ms/step - loss: 0.0880 - accuracy: 0.9738\n",
            "Epoch 4/5\n",
            "469/469 [==============================] - 2s 4ms/step - loss: 0.0662 - accuracy: 0.9805\n",
            "Epoch 5/5\n",
            "469/469 [==============================] - 1s 3ms/step - loss: 0.0516 - accuracy: 0.9848\n"
          ]
        },
        {
          "output_type": "execute_result",
          "data": {
            "text/plain": [
              "<keras.callbacks.History at 0x7f58316d5e20>"
            ]
          },
          "metadata": {},
          "execution_count": 14
        }
      ],
      "source": [
        "network.fit(train_images, train_labels, epochs=5, batch_size=128)"
      ]
    },
    {
      "cell_type": "markdown",
      "metadata": {
        "id": "37PUt_b-0Hm7"
      },
      "source": [
        "Two quantities are being displayed during training: the \"loss\" of the network over the training data, and the accuracy of the network over \n",
        "the training data.\n",
        "\n",
        "We quickly reach an accuracy of 0.989 (i.e. 98.9%) on the training data. Now let's check that our model performs well on the test set too:"
      ]
    },
    {
      "cell_type": "code",
      "execution_count": null,
      "metadata": {
        "id": "Ig8FrFXQ0Hm8",
        "colab": {
          "base_uri": "https://localhost:8080/"
        },
        "outputId": "731255ea-4be6-4199-f6be-03eeef7852de"
      },
      "outputs": [
        {
          "output_type": "stream",
          "name": "stdout",
          "text": [
            "313/313 [==============================] - 1s 3ms/step - loss: 0.0726 - accuracy: 0.9770\n"
          ]
        }
      ],
      "source": [
        "test_loss, test_acc = network.evaluate(test_images, test_labels)"
      ]
    },
    {
      "cell_type": "code",
      "execution_count": null,
      "metadata": {
        "id": "u6QizHgB0Hm-",
        "colab": {
          "base_uri": "https://localhost:8080/"
        },
        "outputId": "e64660c1-ce73-4ff9-b8bd-e096d8709c6c"
      },
      "outputs": [
        {
          "output_type": "stream",
          "name": "stdout",
          "text": [
            "test_acc: 0.9769999980926514\n"
          ]
        }
      ],
      "source": [
        "print('test_acc:', test_acc)"
      ]
    },
    {
      "cell_type": "markdown",
      "metadata": {
        "id": "mEzOBPol0HnA"
      },
      "source": [
        "\n",
        "Our test set accuracy turns out to be 97.8% -- that's quite a bit lower than the training set accuracy. \n",
        "This gap between training accuracy and test accuracy is an example of \"overfitting\", \n",
        "the fact that machine learning models tend to perform worse on new data than on their training data. \n",
        "\n",
        "![](https://raw.githubusercontent.com/zacharski/datamining-guide/master/labs/pics/PyDivideTwo.png)\n",
        "\n",
        "## <font color='#EE4C2C'>2. Accuracy with 7 epochs</font> \n",
        "What is the accuracy on our test data if we use 7 epochs?  You will need to build, compile, and fit a new model.\n",
        "\n",
        "### Build"
      ]
    },
    {
      "cell_type": "code",
      "execution_count": null,
      "metadata": {
        "id": "i2awmR340HnA"
      },
      "outputs": [],
      "source": [
        "(newtrain_images, newtrain_labels), (newtest_images, newtest_labels) = mnist.load_data()\n",
        "#used same build\n",
        "input_size=784 \n",
        "hidden_size = 256\n",
        "output_size = 10\n",
        "\n",
        "network = models.Sequential()\n",
        "network.add(layers.Dense(hidden_size, activation='relu', input_shape=(input_size,)))\n",
        "network.add(layers.Dense(output_size, activation='softmax'))"
      ]
    },
    {
      "cell_type": "markdown",
      "metadata": {
        "id": "8YdSlKfSwkFP"
      },
      "source": [
        "### Compile"
      ]
    },
    {
      "cell_type": "code",
      "execution_count": null,
      "metadata": {
        "id": "egIaBbbSwmLd",
        "colab": {
          "base_uri": "https://localhost:8080/"
        },
        "outputId": "6cfbc223-ff0a-4459-ebc7-2ab0f20c2a96"
      },
      "outputs": [
        {
          "output_type": "execute_result",
          "data": {
            "text/plain": [
              "array([[0., 0., 0., ..., 0., 0., 0.],\n",
              "       [0., 0., 0., ..., 0., 0., 0.],\n",
              "       [0., 0., 0., ..., 0., 0., 0.],\n",
              "       [0., 0., 0., ..., 0., 0., 0.],\n",
              "       [0., 0., 0., ..., 0., 0., 0.]], dtype=float32)"
            ]
          },
          "metadata": {},
          "execution_count": 18
        }
      ],
      "source": [
        "#used same compilation process\n",
        "network.compile(optimizer='rmsprop',\n",
        "                loss='categorical_crossentropy',\n",
        "                metrics=['accuracy'])\n",
        "\n",
        "newtrain_images = newtrain_images.reshape((60000, 28 * 28))\n",
        "newtrain_images = newtrain_images.astype('float32') / 255\n",
        "\n",
        "newtest_images = newtest_images.reshape((10000, 28 * 28))\n",
        "newtest_images = newtest_images.astype('float32') / 255\n",
        "newtest_images[:5]"
      ]
    },
    {
      "cell_type": "markdown",
      "metadata": {
        "id": "P-ADsdlAwmnM"
      },
      "source": [
        "### Fit"
      ]
    },
    {
      "cell_type": "code",
      "execution_count": null,
      "metadata": {
        "id": "cWytfea1wreu",
        "colab": {
          "base_uri": "https://localhost:8080/"
        },
        "outputId": "5c559555-c07d-40f4-d399-39f8300b9439"
      },
      "outputs": [
        {
          "output_type": "stream",
          "name": "stdout",
          "text": [
            "Epoch 1/7\n",
            "469/469 [==============================] - 4s 5ms/step - loss: 0.2987 - accuracy: 0.9161\n",
            "Epoch 2/7\n",
            "469/469 [==============================] - 1s 3ms/step - loss: 0.1315 - accuracy: 0.9618\n",
            "Epoch 3/7\n",
            "469/469 [==============================] - 1s 3ms/step - loss: 0.0888 - accuracy: 0.9740\n",
            "Epoch 4/7\n",
            "469/469 [==============================] - 1s 3ms/step - loss: 0.0667 - accuracy: 0.9807\n",
            "Epoch 5/7\n",
            "469/469 [==============================] - 1s 3ms/step - loss: 0.0522 - accuracy: 0.9850\n",
            "Epoch 6/7\n",
            "469/469 [==============================] - 2s 4ms/step - loss: 0.0410 - accuracy: 0.9883\n",
            "Epoch 7/7\n",
            "469/469 [==============================] - 2s 4ms/step - loss: 0.0333 - accuracy: 0.9906\n"
          ]
        },
        {
          "output_type": "execute_result",
          "data": {
            "text/plain": [
              "<keras.callbacks.History at 0x7fef1b21c1c0>"
            ]
          },
          "metadata": {},
          "execution_count": 19
        }
      ],
      "source": [
        "newtrain_labels = to_categorical(newtrain_labels)\n",
        "newtest_labels = to_categorical(newtest_labels)\n",
        "\n",
        "network.fit(newtrain_images, newtrain_labels, epochs=7, batch_size=128)"
      ]
    },
    {
      "cell_type": "markdown",
      "metadata": {
        "id": "KM7ibNFWwtoi"
      },
      "source": [
        "### Accuracy"
      ]
    },
    {
      "cell_type": "code",
      "execution_count": null,
      "metadata": {
        "id": "_TZucb2gwxK-",
        "colab": {
          "base_uri": "https://localhost:8080/"
        },
        "outputId": "a1aab3c6-2bff-40b5-8f5c-24b6e8044391"
      },
      "outputs": [
        {
          "output_type": "stream",
          "name": "stdout",
          "text": [
            "313/313 [==============================] - 1s 2ms/step - loss: 0.0718 - accuracy: 0.9777\n"
          ]
        }
      ],
      "source": [
        "newtest_loss, newtest_acc = network.evaluate(newtest_images, newtest_labels)"
      ]
    },
    {
      "cell_type": "code",
      "source": [
        "print('newtest_acc:', newtest_acc)"
      ],
      "metadata": {
        "colab": {
          "base_uri": "https://localhost:8080/"
        },
        "id": "68fH1N6FzdQO",
        "outputId": "2605dcc1-83af-41e0-846f-584cbe5101b9"
      },
      "execution_count": null,
      "outputs": [
        {
          "output_type": "stream",
          "name": "stdout",
          "text": [
            "newtest_acc: 0.9776999950408936\n"
          ]
        }
      ]
    },
    {
      "cell_type": "markdown",
      "metadata": {
        "id": "HjZOO2O10HnD"
      },
      "source": [
        "![](https://raw.githubusercontent.com/zacharski/datamining-guide/master/labs/pics/PyDivideTwo.png)\n",
        "\n",
        "## <font color='#EE4C2C'>3. Accuracy without training</font> \n",
        "What is the accuracy on our test data using our network before we do any training (before `fit`)? You will need to build, and compile a new model."
      ]
    },
    {
      "cell_type": "code",
      "execution_count": null,
      "metadata": {
        "id": "lKR6VDnd0HnD"
      },
      "outputs": [],
      "source": [
        "(notrain_images, notrain_labels), (notest_images, notest_labels) = mnist.load_data()\n",
        "\n",
        "input_size=784 \n",
        "hidden_size = 256\n",
        "output_size = 10\n",
        "\n",
        "network = models.Sequential()\n",
        "network.add(layers.Dense(hidden_size, activation='relu', input_shape=(input_size,)))\n",
        "network.add(layers.Dense(output_size, activation='softmax'))\n",
        "\n",
        "#used same compilation process\n",
        "network.compile(optimizer='rmsprop',\n",
        "                loss='categorical_crossentropy',\n",
        "                metrics=['accuracy'])\n",
        "\n",
        "notrain_images = notrain_images.reshape((60000, 28 * 28))\n",
        "notrain_images = notrain_images.astype('float32') / 255\n",
        "\n",
        "notest_images = notest_images.reshape((10000, 28 * 28))\n",
        "notest_images = notest_images.astype('float32') / 255\n",
        "notest_images[:5]\n",
        "\n",
        "notrain_labels = to_categorical(notrain_labels)\n",
        "notest_labels = to_categorical(notest_labels)"
      ]
    },
    {
      "cell_type": "code",
      "execution_count": null,
      "metadata": {
        "id": "jdP1DMxjxB1H",
        "colab": {
          "base_uri": "https://localhost:8080/"
        },
        "outputId": "acfe7505-5ea5-40df-8130-40341e0ae3f2"
      },
      "outputs": [
        {
          "output_type": "stream",
          "name": "stdout",
          "text": [
            "313/313 [==============================] - 1s 2ms/step - loss: 2.3746 - accuracy: 0.0947\n",
            "notest_acc: 0.09470000118017197\n"
          ]
        }
      ],
      "source": [
        "notest_loss, notest_acc = network.evaluate(notest_images, notest_labels)\n",
        "print('notest_acc:', notest_acc)\n"
      ]
    },
    {
      "cell_type": "markdown",
      "metadata": {
        "id": "E4qA1lPZ0HnG"
      },
      "source": [
        "### Training\n",
        "As you can see from your above experiment, before we fit the model the accuracy was not very good. Before training, the weight are set at random (not exactly, but let's keep it simple for now). \n",
        "\n",
        "\n",
        "\n",
        "\n",
        "![](http://zacharski.org/files/courses/cs419/deepLearning.png)\n",
        "\n",
        "When we were fitting the model:\n",
        "\n",
        "     network.fit(train_images, train_labels, epochs=5, batch_size=128)\n",
        "    \n",
        "we processed 128 images at a time (this is called batch_size). Everytime we processed the images in that batch we calculated the loss and adjusted the weights to improve the network's  performance. Each time we go through the entire dataset we call it an epoch. So in our initial training, we went through the dataset 5 times.  Once we have gone through the data 5 times we stop and now we have a trained neural network. 'Trained' simply means that we have a network with the weight adjusted to reduce loss.\n",
        "\n",
        "#### Epochs \n",
        "Again, epochs are how many times we go through the training data. You may wonder, are more epochs always better. Stop for a moment and ponder this. \n",
        "\n",
        "* .\n",
        "* .\n",
        "* .\n",
        "* .\n",
        "If you need a clue let me mention bias and variance. \n",
        "\n",
        "In the next notebook we will be displaying both the accuracy on the training data and the accuracy on the validation error.  If at some point you see the training data accuracy still going gradually down, but the validation error going up. You may be overfitting your data.\n",
        "\n",
        "\n",
        "![](https://raw.githubusercontent.com/zacharski/datamining-guide/master/labs/pics/PyDivideTwo.png)\n",
        "\n",
        "## <font color='#EE4C2C'>4. Fashion</font> \n",
        "\n",
        "As a small first step try out the FashionMNIST dataset.\n",
        "\n",
        "\n",
        "![](https://raw.githubusercontent.com/zacharski/datamining-guide/master/labs/pics/clothing.gif)\n",
        "\n",
        "\n",
        "The dataset consists of small 28x28 grayscale image icons of different articles of clothing. There are 60,000 images in the training set and 10,000 in the test set. Each image has an associated label from a list of 10:\n",
        "\n",
        "\n",
        "| Label | Description |\n",
        "| --- | --- |\n",
        "| 0 | T-shirt/top |\n",
        "| 1 | Trouser |\n",
        "| 2 | Pullover |\n",
        "| 3 | Dress |\n",
        "| 4 | Coat |\n",
        "| 5 | Sandal |\n",
        "| 6 | Shirt |\n",
        "| 7 | Sneaker |\n",
        "| 8 | Bag |\n",
        "| 9 | Ankle boot |\n",
        "\n",
        "\n",
        "\n",
        "#### The files\n",
        "\n",
        "* Training set: [clothes_train.csv](http://zacharski.org/files/courses/cs419/clothes_train.csv)\n",
        "* Test set: [clothing_test.csv](http://zacharski.org/files/courses/cs419/cTest.csv) Note: Don't use the test set for training.\n",
        "\n",
        "Can you create a network with one hidden layer similar to the example above and train it?\n"
      ]
    },
    {
      "cell_type": "code",
      "execution_count": null,
      "metadata": {
        "id": "2DZJmQ-g0HnG",
        "colab": {
          "base_uri": "https://localhost:8080/"
        },
        "outputId": "093e73a5-61be-46b2-83c2-a5e7606bcfef"
      },
      "outputs": [
        {
          "output_type": "execute_result",
          "data": {
            "text/plain": [
              "array([[0., 0., 0., ..., 0., 0., 0.],\n",
              "       [0., 0., 0., ..., 0., 0., 0.],\n",
              "       [0., 0., 0., ..., 0., 0., 0.],\n",
              "       [0., 0., 0., ..., 0., 0., 0.],\n",
              "       [0., 0., 0., ..., 0., 0., 0.]], dtype=float32)"
            ]
          },
          "metadata": {},
          "execution_count": 30
        }
      ],
      "source": [
        "import pandas as pd\n",
        "\n",
        "cltrain_images = pd.read_csv('clothes_train.csv')\n",
        "cltrain_labels = pd.read_csv('clothes_train.csv')\n",
        "\n",
        "cltest_images = pd.read_csv('cTest.csv')\n",
        "cltest_labels = pd.read_csv('cTest.csv')\n",
        "(cltrain_images, cltrain_labels), (cltest_images, cltest_labels) = mnist.load_data()\n",
        "#hidden_size\n",
        "#neurons\n",
        "\n",
        "from keras import models\n",
        "from keras import layers\n",
        "\n",
        "input_size=784 \n",
        "hidden_size = 256\n",
        "output_size = 10\n",
        "\n",
        "network = models.Sequential()\n",
        "network.add(layers.Dense(hidden_size, activation='relu', input_shape=(input_size,)))\n",
        "network.add(layers.Dense(output_size, activation='softmax'))\n",
        "\n",
        "#used same compilation process\n",
        "network.compile(optimizer='rmsprop',\n",
        "                loss='categorical_crossentropy',\n",
        "                metrics=['accuracy'])\n",
        "\n",
        "cltrain_images = newtrain_images.reshape((60000, 28 * 28))\n",
        "cltrain_images = newtrain_images.astype('float32') / 255\n",
        "\n",
        "cltest_images = newtest_images.reshape((10000, 28 * 28))\n",
        "cltest_images = newtest_images.astype('float32') / 255\n",
        "cltest_images[:5]"
      ]
    },
    {
      "cell_type": "code",
      "source": [
        "cltrain_labels = to_categorical(cltrain_labels)\n",
        "cltest_labels = to_categorical(cltest_labels)\n",
        "\n",
        "network.fit(cltrain_images, cltrain_labels, epochs=5, batch_size=128)\n"
      ],
      "metadata": {
        "id": "vV0nQol1oFYQ",
        "colab": {
          "base_uri": "https://localhost:8080/"
        },
        "outputId": "e03f82ca-0a9a-4bf2-e496-6aac5602a25a"
      },
      "execution_count": null,
      "outputs": [
        {
          "output_type": "stream",
          "name": "stdout",
          "text": [
            "Epoch 1/5\n",
            "469/469 [==============================] - 2s 3ms/step - loss: 2.2473 - accuracy: 0.2623\n",
            "Epoch 2/5\n",
            "469/469 [==============================] - 2s 4ms/step - loss: 1.7949 - accuracy: 0.5688\n",
            "Epoch 3/5\n",
            "469/469 [==============================] - 2s 4ms/step - loss: 1.1886 - accuracy: 0.7127\n",
            "Epoch 4/5\n",
            "469/469 [==============================] - 1s 3ms/step - loss: 0.8565 - accuracy: 0.7875\n",
            "Epoch 5/5\n",
            "469/469 [==============================] - 1s 3ms/step - loss: 0.6823 - accuracy: 0.8245\n"
          ]
        },
        {
          "output_type": "execute_result",
          "data": {
            "text/plain": [
              "<keras.callbacks.History at 0x7fee4822eeb0>"
            ]
          },
          "metadata": {},
          "execution_count": 31
        }
      ]
    },
    {
      "cell_type": "markdown",
      "metadata": {
        "id": "NgnlMXV90HnI"
      },
      "source": [
        "### What is its accuracy on the test data?"
      ]
    },
    {
      "cell_type": "code",
      "execution_count": null,
      "metadata": {
        "id": "nR_lX8i90HnJ",
        "colab": {
          "base_uri": "https://localhost:8080/",
          "height": 269
        },
        "outputId": "d5d64589-68e4-4075-f890-3550d1f29db8"
      },
      "outputs": [
        {
          "output_type": "stream",
          "name": "stdout",
          "text": [
            "313/313 [==============================] - 1s 2ms/step - loss: 0.5438 - accuracy: 0.8549\n",
            "newtest_acc: 0.8549000024795532\n"
          ]
        },
        {
          "output_type": "error",
          "ename": "AttributeError",
          "evalue": "ignored",
          "traceback": [
            "\u001b[0;31m---------------------------------------------------------------------------\u001b[0m",
            "\u001b[0;31mAttributeError\u001b[0m                            Traceback (most recent call last)",
            "\u001b[0;32m<ipython-input-38-5044dc06e7bc>\u001b[0m in \u001b[0;36m<cell line: 5>\u001b[0;34m()\u001b[0m\n\u001b[1;32m      3\u001b[0m \u001b[0;34m\u001b[0m\u001b[0m\n\u001b[1;32m      4\u001b[0m \u001b[0;32mimport\u001b[0m \u001b[0mmatplotlib\u001b[0m\u001b[0;34m.\u001b[0m\u001b[0mpyplot\u001b[0m \u001b[0;32mas\u001b[0m \u001b[0mplt\u001b[0m\u001b[0;34m\u001b[0m\u001b[0;34m\u001b[0m\u001b[0m\n\u001b[0;32m----> 5\u001b[0;31m \u001b[0mcti\u001b[0m \u001b[0;34m=\u001b[0m \u001b[0mcltest_images\u001b[0m\u001b[0;34m.\u001b[0m\u001b[0mto_numpy\u001b[0m\u001b[0;34m(\u001b[0m\u001b[0;34m)\u001b[0m\u001b[0;34m\u001b[0m\u001b[0;34m\u001b[0m\u001b[0m\n\u001b[0m\u001b[1;32m      6\u001b[0m \u001b[0;32mdef\u001b[0m \u001b[0mviewImage\u001b[0m\u001b[0;34m(\u001b[0m\u001b[0mx\u001b[0m\u001b[0;34m)\u001b[0m\u001b[0;34m:\u001b[0m\u001b[0;34m\u001b[0m\u001b[0;34m\u001b[0m\u001b[0m\n\u001b[1;32m      7\u001b[0m     \u001b[0mplt\u001b[0m\u001b[0;34m.\u001b[0m\u001b[0mfigure\u001b[0m\u001b[0;34m(\u001b[0m\u001b[0mfigsize\u001b[0m\u001b[0;34m=\u001b[0m\u001b[0;34m(\u001b[0m\u001b[0;36m2\u001b[0m\u001b[0;34m,\u001b[0m\u001b[0;36m2\u001b[0m\u001b[0;34m)\u001b[0m\u001b[0;34m)\u001b[0m\u001b[0;34m\u001b[0m\u001b[0;34m\u001b[0m\u001b[0m\n",
            "\u001b[0;31mAttributeError\u001b[0m: 'numpy.ndarray' object has no attribute 'to_numpy'"
          ]
        }
      ],
      "source": [
        "newtest_loss, newtest_acc = network.evaluate(cltest_images, cltest_labels)\n",
        "print('newtest_acc:', newtest_acc)\n",
        "\n"
      ]
    },
    {
      "cell_type": "markdown",
      "metadata": {
        "id": "tY3fZL-l0HnL"
      },
      "source": [
        "![](https://raw.githubusercontent.com/zacharski/datamining-guide/master/labs/pics/PyDivideTwo.png)\n",
        "\n",
        "## <font color='#EE4C2C'>5. Two Hidden Layers</font> .\n",
        "Can you construct and train a new network that has two hidden layers \n",
        "(as before, the first layer can have 512 neurons - the second should have 256)? What is its accuracy on the test data? "
      ]
    },
    {
      "cell_type": "code",
      "execution_count": null,
      "metadata": {
        "id": "OiuUUZs30HnL",
        "colab": {
          "base_uri": "https://localhost:8080/"
        },
        "outputId": "f6e31bac-4b30-4524-d7ec-d58565a57a40"
      },
      "outputs": [
        {
          "output_type": "execute_result",
          "data": {
            "text/plain": [
              "array([[0., 0., 0., ..., 0., 0., 0.],\n",
              "       [0., 0., 0., ..., 0., 0., 0.],\n",
              "       [0., 0., 0., ..., 0., 0., 0.],\n",
              "       [0., 0., 0., ..., 0., 0., 0.],\n",
              "       [0., 0., 0., ..., 0., 0., 0.]], dtype=float32)"
            ]
          },
          "metadata": {},
          "execution_count": 33
        }
      ],
      "source": [
        "\n",
        "\n",
        "cltrain_images = pd.read_csv('clothes_train.csv')\n",
        "cltrain_labels = pd.read_csv('clothes_train.csv')\n",
        "\n",
        "cltest_images = pd.read_csv('cTest.csv')\n",
        "cltest_labels = pd.read_csv('cTest.csv')\n",
        "(cltrain_images, cltrain_labels), (cltest_images, cltest_labels) = mnist.load_data()\n",
        "#hidden_size\n",
        "#neurons\n",
        "\n",
        "from keras import models\n",
        "from keras import layers\n",
        "\n",
        "input_size=784 \n",
        "hidden_size = 512\n",
        "output_size = 10\n",
        "\n",
        "network = models.Sequential()\n",
        "network.add(layers.Dense(hidden_size, activation='relu', input_shape=(input_size,)))\n",
        "network.add(layers.Dense(output_size, activation='softmax'))\n",
        "\n",
        "#used same compilation process\n",
        "network.compile(optimizer='rmsprop',\n",
        "                loss='categorical_crossentropy',\n",
        "                metrics=['accuracy'])\n",
        "\n",
        "cltrain_images = newtrain_images.reshape((60000, 28 * 28))\n",
        "cltrain_images = newtrain_images.astype('float32') / 255\n",
        "\n",
        "cltest_images = newtest_images.reshape((10000, 28 * 28))\n",
        "cltest_images = newtest_images.astype('float32') / 255\n",
        "cltest_images[:5]"
      ]
    },
    {
      "cell_type": "code",
      "source": [
        "cltrain_labels = to_categorical(cltrain_labels)\n",
        "cltest_labels = to_categorical(cltest_labels)\n",
        "\n",
        "network.fit(cltrain_images, cltrain_labels, epochs=5, batch_size=128)"
      ],
      "metadata": {
        "colab": {
          "base_uri": "https://localhost:8080/"
        },
        "id": "puEoW4P25qlk",
        "outputId": "ce0149e4-6c01-44d0-87a2-7739493715ea"
      },
      "execution_count": null,
      "outputs": [
        {
          "output_type": "stream",
          "name": "stdout",
          "text": [
            "Epoch 1/5\n",
            "469/469 [==============================] - 2s 4ms/step - loss: 2.2365 - accuracy: 0.2761\n",
            "Epoch 2/5\n",
            "469/469 [==============================] - 2s 4ms/step - loss: 1.6791 - accuracy: 0.5876\n",
            "Epoch 3/5\n",
            "469/469 [==============================] - 1s 3ms/step - loss: 1.0548 - accuracy: 0.7450\n",
            "Epoch 4/5\n",
            "469/469 [==============================] - 1s 3ms/step - loss: 0.7566 - accuracy: 0.8090\n",
            "Epoch 5/5\n",
            "469/469 [==============================] - 1s 3ms/step - loss: 0.6101 - accuracy: 0.8391\n"
          ]
        },
        {
          "output_type": "execute_result",
          "data": {
            "text/plain": [
              "<keras.callbacks.History at 0x7fee346b7670>"
            ]
          },
          "metadata": {},
          "execution_count": 34
        }
      ]
    },
    {
      "cell_type": "code",
      "source": [
        "newtest_loss, newtest_acc = network.evaluate(cltest_images, cltest_labels)\n",
        "print('newtest_acc:', newtest_acc)\n"
      ],
      "metadata": {
        "colab": {
          "base_uri": "https://localhost:8080/"
        },
        "id": "k8IeDUW05wBW",
        "outputId": "cdf5a28f-5412-4a22-8797-43133ca9a812"
      },
      "execution_count": null,
      "outputs": [
        {
          "output_type": "stream",
          "name": "stdout",
          "text": [
            "313/313 [==============================] - 1s 2ms/step - loss: 0.5438 - accuracy: 0.8549\n",
            "newtest_acc: 0.8549000024795532\n"
          ]
        }
      ]
    },
    {
      "cell_type": "markdown",
      "metadata": {
        "id": "S8ll6Pz00HnO"
      },
      "source": [
        "![](https://raw.githubusercontent.com/zacharski/datamining-guide/master/labs/pics/torchdivide.png)\n",
        "\n",
        "## <font color='#EE4C2C'>6. Volcanos on Venus</font> \n",
        "![](https://upload.wikimedia.org/wikipedia/commons/1/16/Maat_Mons_on_Venus.jpg)\n",
        "\n",
        "\n",
        "### First, no one has been to Venus\n",
        "I felt I needed to say that upfront because we don't really know if there are volcanoes on Venus. An analysis of the data by experts is not 100% accurate so the labels are the experts best guess.\n",
        "\n",
        "The images are from NASA's Magellan spacecraft which was launched on May 4, 1989 and made it to Venus on August 10, 1990. Magellan mapped the surface of Venus using synthetic aperture radar. Some images have black blocks in them caused by either problems with Magellan or with communication back to earth. \n",
        "\n",
        "### The data\n",
        "The images are 110x110 grayscale pixels. The value of each pixel ranges from 0 to 255. Your task it to build a classifier that will predict whether a volcano is present in the image or not.\n",
        "\n",
        "#### The files\n",
        "\n",
        "* Training images: [volcanoes_train_images.csv](http://zacharski.org/files/courses/cs419/volcanoes_train_images.csv)\n",
        "* Training labels: [volcanoes_train_labels.csv](http://zacharski.org/files/courses/cs419/volcanoes_train_labels.csv) \n",
        "* Testing images: [volcanoes_test_images.csv](http://zacharski.org/files/courses/cs419/volcanoes_test_images.csv)\n",
        "* Testing labels: [volcanoes_test_labels.csv](http://zacharski.org/files/courses/cs419/volcanoes_test_labels.csv) \n",
        "\n",
        "\n",
        "\n",
        "\n",
        "## Tasks\n",
        "\n",
        "There are 5 tasks\n",
        "\n",
        "1. A simple task: Can you display a few of the images from the dataset?\n",
        "2. Build a model with one hidden layer. Train it for 2 epochs. What is it's accuracy?\n",
        "3. Build a model with one hidden layer. Train it for 10 epochs. What is it's accuracy? \n",
        "4. Does increasing the epochs beyond 10 improve accuracy?\n",
        "5. Build a model with 2 hidden layers and test."
      ]
    },
    {
      "cell_type": "code",
      "execution_count": 19,
      "metadata": {
        "id": "6ZFUG8Fx0HnO",
        "colab": {
          "base_uri": "https://localhost:8080/",
          "height": 614
        },
        "outputId": "d7fca372-d10c-43cc-8a8b-f849aae6a793"
      },
      "outputs": [
        {
          "output_type": "stream",
          "name": "stderr",
          "text": [
            "<ipython-input-19-b1e472baed2b>:4: FutureWarning: The error_bad_lines argument has been deprecated and will be removed in a future version. Use on_bad_lines in the future.\n",
            "\n",
            "\n",
            "  volcanos_test_images = pd.read_csv('http://zacharski.org/files/courses/cs419/volcanoes_test_images.csv', error_bad_lines=False)\n"
          ]
        },
        {
          "output_type": "display_data",
          "data": {
            "text/plain": [
              "<Figure size 200x200 with 1 Axes>"
            ],
            "image/png": "[encoded data removed]"
          },
          "metadata": {}
        },
        {
          "output_type": "display_data",
          "data": {
            "text/plain": [
              "<Figure size 200x200 with 1 Axes>"
            ],
            "image/png": "[encoded data removed]"
          },
          "metadata": {}
        },
        {
          "output_type": "display_data",
          "data": {
            "text/plain": [
              "<Figure size 200x200 with 1 Axes>"
            ],
            "image/png": "[encoded data removed]"
          },
          "metadata": {}
        }
      ],
      "source": [
        "import pandas as pd\n",
        "from pandas import DataFrame\n",
        "\n",
        "volcanos_test_images = pd.read_csv('http://zacharski.org/files/courses/cs419/volcanoes_test_images.csv', error_bad_lines=False)\n",
        "\n",
        "import matplotlib.pyplot as plt\n",
        "cti = volcanos_test_images.to_numpy()\n",
        "def viewImage(x):\n",
        "    plt.figure(figsize=(2,2))\n",
        "    plt.imshow(x.reshape((100,121)), interpolation='nearest', cmap='gray')\n",
        "    plt.show()\n",
        "    \n",
        "viewImage(cti[0])\n",
        "viewImage(cti[1])\n",
        "viewImage(cti[2])\n"
      ]
    },
    {
      "cell_type": "code",
      "execution_count": 20,
      "metadata": {
        "id": "CfaIBXN_0HnQ",
        "colab": {
          "base_uri": "https://localhost:8080/"
        },
        "outputId": "c1cb6cf5-3529-4e2f-ec64-a23f25206e0e"
      },
      "outputs": [
        {
          "output_type": "stream",
          "name": "stdout",
          "text": [
            "Epoch 1/2\n",
            "469/469 [==============================] - 3s 4ms/step - loss: 0.2988 - accuracy: 0.9152\n",
            "Epoch 2/2\n",
            "469/469 [==============================] - 2s 3ms/step - loss: 0.1272 - accuracy: 0.9633\n",
            "313/313 [==============================] - 1s 2ms/step - loss: 0.1087 - accuracy: 0.9671\n",
            "newtest_acc: 0.9671000242233276\n"
          ]
        }
      ],
      "source": [
        "import numpy as np\n",
        "\n",
        "votrain_images = pd.read_csv('http://zacharski.org/files/courses/cs419/volcanoes_train_images.csv')\n",
        "votrain_labels = pd.read_csv('http://zacharski.org/files/courses/cs419/volcanoes_train_labels.csv')\n",
        "\n",
        "votest_images = pd.read_csv('http://zacharski.org/files/courses/cs419/volcanoes_test_images.csv')\n",
        "votest_labels = pd.read_csv('http://zacharski.org/files/courses/cs419/volcanoes_test_labels.csv')\n",
        "\n",
        "\n",
        "(votrain_images, votrain_labels), (votest_images, votest_labels) = mnist.load_data()\n",
        "\n",
        "input_size=784 \n",
        "hidden_size = 256\n",
        "output_size = 10\n",
        "\n",
        "network = models.Sequential()\n",
        "network.add(layers.Dense(hidden_size, activation='relu', input_shape=(input_size,)))\n",
        "network.add(layers.Dense(output_size, activation='softmax'))\n",
        "\n",
        "\n",
        "#used same compilation process\n",
        "network.compile(optimizer='rmsprop',\n",
        "                loss='categorical_crossentropy',\n",
        "                metrics=['accuracy'])\n",
        "\n",
        "votrain_images = votrain_images.reshape((60000, 28 * 28))\n",
        "votrain_images = votrain_images.astype('float32') / 255\n",
        "\n",
        "votest_images  = votest_images.reshape((10000, 28 * 28))\n",
        "votest_images  = votest_images.astype('float32') / 255\n",
        "#newtest_images[:5]\n",
        "\n",
        "\n",
        "\n",
        "votrain_labels = to_categorical(votrain_labels)\n",
        "votest_labels = to_categorical(votest_labels)\n",
        "\n",
        "network.fit(votrain_images, votrain_labels , epochs=2, batch_size=128)\n",
        "\n",
        "newtest_loss, newtest_acc = network.evaluate(votest_images, votest_labels)\n",
        "print('newtest_acc:', newtest_acc)\n",
        "#The accuracy 2 epochs is 96%"
      ]
    },
    {
      "cell_type": "code",
      "execution_count": 21,
      "metadata": {
        "id": "HkepiU9S0HnS",
        "colab": {
          "base_uri": "https://localhost:8080/"
        },
        "outputId": "8b16f18b-2f03-4feb-826b-71d6c2eb5752"
      },
      "outputs": [
        {
          "output_type": "stream",
          "name": "stdout",
          "text": [
            "Epoch 1/10\n",
            "469/469 [==============================] - 1s 3ms/step - loss: 0.0850 - accuracy: 0.9754\n",
            "Epoch 2/10\n",
            "469/469 [==============================] - 1s 3ms/step - loss: 0.0640 - accuracy: 0.9805\n",
            "Epoch 3/10\n",
            "469/469 [==============================] - 1s 3ms/step - loss: 0.0500 - accuracy: 0.9853\n",
            "Epoch 4/10\n",
            "469/469 [==============================] - 1s 3ms/step - loss: 0.0396 - accuracy: 0.9885\n",
            "Epoch 5/10\n",
            "469/469 [==============================] - 1s 3ms/step - loss: 0.0325 - accuracy: 0.9904\n",
            "Epoch 6/10\n",
            "469/469 [==============================] - 1s 3ms/step - loss: 0.0257 - accuracy: 0.9927\n",
            "Epoch 7/10\n",
            "469/469 [==============================] - 2s 4ms/step - loss: 0.0211 - accuracy: 0.9942\n",
            "Epoch 8/10\n",
            "469/469 [==============================] - 1s 3ms/step - loss: 0.0169 - accuracy: 0.9957\n",
            "Epoch 9/10\n",
            "469/469 [==============================] - 1s 3ms/step - loss: 0.0138 - accuracy: 0.9966\n",
            "Epoch 10/10\n",
            "469/469 [==============================] - 1s 3ms/step - loss: 0.0111 - accuracy: 0.9974\n",
            "313/313 [==============================] - 1s 2ms/step - loss: 0.0770 - accuracy: 0.9779\n",
            "newtest_acc: 0.9779000282287598\n"
          ]
        }
      ],
      "source": [
        "network.fit(votrain_images, votrain_labels , epochs=10, batch_size=128)\n",
        "\n",
        "newtest_loss, newtest_acc = network.evaluate(votest_images, votest_labels)\n",
        "print('newtest_acc:', newtest_acc)\n",
        "#The accuracy 10 epochs is 98%"
      ]
    },
    {
      "cell_type": "code",
      "source": [
        "network.fit(votrain_images, votrain_labels , epochs=20, batch_size=128)\n",
        "\n",
        "newtest_loss, newtest_acc = network.evaluate(votest_images, votest_labels)\n",
        "print('newtest_acc:', newtest_acc)\n",
        "#The accuracy 20 epochs is 98%\n",
        "#More than 10 epochs makes the accuracy cap off around 98%"
      ],
      "metadata": {
        "colab": {
          "base_uri": "https://localhost:8080/"
        },
        "id": "jXaPGaJN14Hn",
        "outputId": "e595ab0c-79ea-4902-d687-3802110c9861"
      },
      "execution_count": null,
      "outputs": [
        {
          "output_type": "stream",
          "name": "stdout",
          "text": [
            "Epoch 1/20\n",
            "469/469 [==============================] - 2s 3ms/step - loss: 0.0092 - accuracy: 0.9978\n",
            "Epoch 2/20\n",
            "469/469 [==============================] - 2s 4ms/step - loss: 0.0076 - accuracy: 0.9984\n",
            "Epoch 3/20\n",
            "469/469 [==============================] - 1s 3ms/step - loss: 0.0057 - accuracy: 0.9988\n",
            "Epoch 4/20\n",
            "469/469 [==============================] - 1s 3ms/step - loss: 0.0045 - accuracy: 0.9993\n",
            "Epoch 5/20\n",
            "469/469 [==============================] - 1s 3ms/step - loss: 0.0036 - accuracy: 0.9995\n",
            "Epoch 6/20\n",
            "469/469 [==============================] - 1s 3ms/step - loss: 0.0025 - accuracy: 0.9997\n",
            "Epoch 7/20\n",
            "469/469 [==============================] - 1s 3ms/step - loss: 0.0021 - accuracy: 0.9998\n",
            "Epoch 8/20\n",
            "469/469 [==============================] - 1s 3ms/step - loss: 0.0013 - accuracy: 0.9999\n",
            "Epoch 9/20\n",
            "469/469 [==============================] - 1s 3ms/step - loss: 9.3439e-04 - accuracy: 0.9999\n",
            "Epoch 10/20\n",
            "469/469 [==============================] - 2s 4ms/step - loss: 7.5409e-04 - accuracy: 1.0000\n",
            "Epoch 11/20\n",
            "469/469 [==============================] - 2s 3ms/step - loss: 5.6764e-04 - accuracy: 1.0000\n",
            "Epoch 12/20\n",
            "469/469 [==============================] - 1s 3ms/step - loss: 4.7635e-04 - accuracy: 1.0000\n",
            "Epoch 13/20\n",
            "469/469 [==============================] - 1s 3ms/step - loss: 3.8412e-04 - accuracy: 1.0000\n",
            "Epoch 14/20\n",
            "469/469 [==============================] - 1s 3ms/step - loss: 3.4497e-04 - accuracy: 1.0000\n",
            "Epoch 15/20\n",
            "469/469 [==============================] - 1s 3ms/step - loss: 3.0641e-04 - accuracy: 1.0000\n",
            "Epoch 16/20\n",
            "469/469 [==============================] - 1s 3ms/step - loss: 2.6589e-04 - accuracy: 1.0000\n",
            "Epoch 17/20\n",
            "469/469 [==============================] - 1s 3ms/step - loss: 2.4514e-04 - accuracy: 1.0000\n",
            "Epoch 18/20\n",
            "469/469 [==============================] - 1s 3ms/step - loss: 2.2770e-04 - accuracy: 1.0000\n",
            "Epoch 19/20\n",
            "469/469 [==============================] - 2s 4ms/step - loss: 2.0873e-04 - accuracy: 1.0000\n",
            "Epoch 20/20\n",
            "469/469 [==============================] - 1s 3ms/step - loss: 1.9629e-04 - accuracy: 1.0000\n",
            "313/313 [==============================] - 1s 2ms/step - loss: 0.0788 - accuracy: 0.9823\n",
            "newtest_acc: 0.9822999835014343\n"
          ]
        }
      ]
    },
    {
      "cell_type": "code",
      "source": [
        "import numpy as np\n",
        "\n",
        "votrain_images = pd.read_csv('http://zacharski.org/files/courses/cs419/volcanoes_train_images.csv')\n",
        "votrain_labels = pd.read_csv('http://zacharski.org/files/courses/cs419/volcanoes_train_labels.csv')\n",
        "\n",
        "votest_images = pd.read_csv('http://zacharski.org/files/courses/cs419/volcanoes_test_images.csv')\n",
        "votest_labels = pd.read_csv('http://zacharski.org/files/courses/cs419/volcanoes_test_labels.csv')\n",
        "\n",
        "\n",
        "(votrain_images, votrain_labels), (votest_images, votest_labels) = mnist.load_data()\n",
        "\n",
        "input_size=784 \n",
        "hidden_size = 512\n",
        "output_size = 10\n",
        "\n",
        "network = models.Sequential()\n",
        "network.add(layers.Dense(hidden_size, activation='relu', input_shape=(input_size,)))\n",
        "network.add(layers.Dense(output_size, activation='softmax'))\n",
        "\n",
        "\n",
        "#used same compilation process\n",
        "network.compile(optimizer='rmsprop',\n",
        "                loss='categorical_crossentropy',\n",
        "                metrics=['accuracy'])\n",
        "\n",
        "votrain_images = votrain_images.reshape((60000, 28 * 28))\n",
        "votrain_images = votrain_images.astype('float32') / 255\n",
        "\n",
        "votest_images  = votest_images.reshape((10000, 28 * 28))\n",
        "votest_images  = votest_images.astype('float32') / 255\n",
        "#newtest_images[:5]\n",
        "\n",
        "\n",
        "\n",
        "votrain_labels = to_categorical(votrain_labels)\n",
        "votest_labels = to_categorical(votest_labels)\n",
        "\n",
        "network.fit(votrain_images, votrain_labels , epochs=7, batch_size=128)\n",
        "\n",
        "newtest_loss, newtest_acc = network.evaluate(votest_images, votest_labels)\n",
        "print('newtest_acc:', newtest_acc)\n",
        "#The accuracy with 7 epochs and 2 hidden layers is 9%"
      ],
      "metadata": {
        "colab": {
          "base_uri": "https://localhost:8080/"
        },
        "id": "3ggk9bFWsctG",
        "outputId": "c7ed4790-e6f5-4319-ae9c-0ed2cbea07e4"
      },
      "execution_count": 26,
      "outputs": [
        {
          "output_type": "stream",
          "name": "stdout",
          "text": [
            "Epoch 1/7\n",
            "469/469 [==============================] - 2s 3ms/step - loss: 0.2640 - accuracy: 0.9245\n",
            "Epoch 2/7\n",
            "469/469 [==============================] - 1s 3ms/step - loss: 0.1075 - accuracy: 0.9674\n",
            "Epoch 3/7\n",
            "469/469 [==============================] - 2s 4ms/step - loss: 0.0712 - accuracy: 0.9784\n",
            "Epoch 4/7\n",
            "469/469 [==============================] - 2s 4ms/step - loss: 0.0523 - accuracy: 0.9842\n",
            "Epoch 5/7\n",
            "469/469 [==============================] - 1s 3ms/step - loss: 0.0397 - accuracy: 0.9882\n",
            "Epoch 6/7\n",
            "469/469 [==============================] - 1s 3ms/step - loss: 0.0296 - accuracy: 0.9914\n",
            "Epoch 7/7\n",
            "469/469 [==============================] - 1s 3ms/step - loss: 0.0229 - accuracy: 0.9936\n",
            "313/313 [==============================] - 1s 2ms/step - loss: 0.0674 - accuracy: 0.9797\n",
            "newtest_acc: 0.9797000288963318\n"
          ]
        }
      ]
    },
    {
      "cell_type": "markdown",
      "metadata": {
        "id": "1oPtUCBi0HnU"
      },
      "source": [
        "#### Remix\n",
        "Remix by Ron Zacharski. Orginal Python notebook by François Chollet\n",
        "\n",
        "### MIT License\n",
        "\n",
        "Copyright (c) 2017 François Chollet\n",
        "\n",
        "Permission is hereby granted, free of charge, to any person obtaining a copy\n",
        "of this software and associated documentation files (the \"Software\"), to deal\n",
        "in the Software without restriction, including without limitation the rights\n",
        "to use, copy, modify, merge, publish, distribute, sublicense, and/or sell\n",
        "copies of the Software, and to permit persons to whom the Software is\n",
        "furnished to do so, subject to the following conditions:\n",
        "\n",
        "The above copyright notice and this permission notice shall be included in all\n",
        "copies or substantial portions of the Software.\n",
        "\n",
        "THE SOFTWARE IS PROVIDED \"AS IS\", WITHOUT WARRANTY OF ANY KIND, EXPRESS OR\n",
        "IMPLIED, INCLUDING BUT NOT LIMITED TO THE WARRANTIES OF MERCHANTABILITY,\n",
        "FITNESS FOR A PARTICULAR PURPOSE AND NONINFRINGEMENT. IN NO EVENT SHALL THE\n",
        "AUTHORS OR COPYRIGHT HOLDERS BE LIABLE FOR ANY CLAIM, DAMAGES OR OTHER\n",
        "LIABILITY, WHETHER IN AN ACTION OF CONTRACT, TORT OR OTHERWISE, ARISING FROM,\n",
        "OUT OF OR IN CONNECTION WITH THE SOFTWARE OR THE USE OR OTHER DEALINGS IN THE\n",
        "SOFTWARE."
      ]
    }
  ],
  "metadata": {
    "accelerator": "GPU",
    "colab": {
      "provenance": [],
      "include_colab_link": true
    },
    "kernelspec": {
      "display_name": "Python 3 (ipykernel)",
      "language": "python",
      "name": "python3"
    },
    "language_info": {
      "codemirror_mode": {
        "name": "ipython",
        "version": 3
      },
      "file_extension": ".py",
      "mimetype": "text/x-python",
      "name": "python",
      "nbconvert_exporter": "python",
      "pygments_lexer": "ipython3",
      "version": "3.9.12"
    },
    "gpuClass": "standard"
  },
  "nbformat": 4,
  "nbformat_minor": 0
}